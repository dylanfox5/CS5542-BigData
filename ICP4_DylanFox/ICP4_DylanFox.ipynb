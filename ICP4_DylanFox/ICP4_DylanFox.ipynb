{
  "nbformat": 4,
  "nbformat_minor": 0,
  "metadata": {
    "colab": {
      "name": "ICP4_DylanFox.ipynb",
      "provenance": [],
      "collapsed_sections": []
    },
    "kernelspec": {
      "name": "python3",
      "display_name": "Python 3"
    },
    "language_info": {
      "name": "python"
    }
  },
  "cells": [
    {
      "cell_type": "code",
      "metadata": {
        "id": "j45ScgRTBYzs"
      },
      "source": [
        "import pandas as pd\n",
        "import numpy as np\n",
        "import re\n",
        "import nltk\n",
        "from nltk.corpus import stopwords\n",
        "\n",
        "from numpy import array\n",
        "from keras.preprocessing.text import one_hot\n",
        "from keras.preprocessing.sequence import pad_sequences\n",
        "from keras.models import Sequential\n",
        "from keras.layers.core import Activation, Dropout, Dense\n",
        "from keras.layers import Flatten\n",
        "from keras.layers import GlobalMaxPooling1D\n",
        "from keras.layers.embeddings import Embedding\n",
        "from sklearn.model_selection import train_test_split\n",
        "from keras.preprocessing.text import Tokenizer"
      ],
      "execution_count": 26,
      "outputs": []
    },
    {
      "cell_type": "code",
      "metadata": {
        "id": "BhScMTyfCOrL"
      },
      "source": [
        "seed = 55"
      ],
      "execution_count": 27,
      "outputs": []
    },
    {
      "cell_type": "code",
      "metadata": {
        "id": "vDbCuJ5fCQJ8"
      },
      "source": [
        "data = pd.read_csv('https://raw.githubusercontent.com/dD2405/Twitter_Sentiment_Analysis/master/train.csv')"
      ],
      "execution_count": 28,
      "outputs": []
    },
    {
      "cell_type": "code",
      "metadata": {
        "id": "J7C3XHXlEbO1"
      },
      "source": [
        "# preprocess data\n",
        "import re\n",
        "import string\n",
        "\n",
        "features = data.iloc[:, 2].values\n",
        "\n",
        "for i in range(len(features)):\n",
        "  features[i] = features[i].replace(\"@user\", \"\")\n",
        "  features[i] = features[i].translate(str.maketrans('', '', string.punctuation))\n",
        "  features[i] = ''.join(i for i in features[i] if not i.isdigit())\n",
        "  features[i] = re.sub(r'\\s+', ' ', features[i], flags=re.I)\n",
        "  features[i] = features[i].lower()\n",
        "  features[i] = data.iloc[:, 2].values[i]"
      ],
      "execution_count": 29,
      "outputs": []
    },
    {
      "cell_type": "code",
      "metadata": {
        "colab": {
          "base_uri": "https://localhost:8080/"
        },
        "id": "OqKcKje2FlUu",
        "outputId": "9a229d2a-d7e9-4931-91a7-8e1c1f5bc4a6"
      },
      "source": [
        "print(data.head(15))"
      ],
      "execution_count": 53,
      "outputs": [
        {
          "output_type": "stream",
          "name": "stdout",
          "text": [
            "    id  label                                              tweet\n",
            "0    1      0   when a father is dysfunctional and is so self...\n",
            "1    2      0   thanks for lyft credit i cant use cause they ...\n",
            "2    3      0                                bihday your majesty\n",
            "3    4      0  model i love u take with u all the time in urð...\n",
            "4    5      0                  factsguide society now motivation\n",
            "5    6      0   huge fan fare and big talking before they lea...\n",
            "6    7      0                          camping tomorrow dannyâ¦\n",
            "7    8      0  the next school year is the year for examsð¯...\n",
            "8    9      0  we won love the land allin cavs champions clev...\n",
            "9   10      0                         welcome here im its so gr \n",
            "10  11      0   â ireland consumer price index mom climbed ...\n",
            "11  12      0  we are so selfish orlando standwithorlando pul...\n",
            "12  13      0        i get to see my daddy today days gettingfed\n",
            "13  14      1   cnn calls michigan middle school build the wa...\n",
            "14  15      1  no comment in australia opkillingbay seashephe...\n"
          ]
        }
      ]
    },
    {
      "cell_type": "code",
      "metadata": {
        "id": "ijCZNs-cTlB4"
      },
      "source": [
        "from sklearn.model_selection import train_test_split\n",
        "\n",
        "features = data.iloc[:, 2].values\n",
        "labels = data.iloc[:, 1].values\n",
        "\n",
        "X_train, X_test, y_train, y_test = train_test_split(features, labels, test_size=0.2, random_state=0)"
      ],
      "execution_count": 31,
      "outputs": []
    },
    {
      "cell_type": "code",
      "metadata": {
        "colab": {
          "base_uri": "https://localhost:8080/",
          "height": 296
        },
        "id": "vMmSGuldbcHt",
        "outputId": "75a2a887-9726-4b4b-e8f0-6292bec316b5"
      },
      "source": [
        "import seaborn as sns\n",
        "\n",
        "sns.countplot(x='label', data=data)"
      ],
      "execution_count": 32,
      "outputs": [
        {
          "output_type": "execute_result",
          "data": {
            "text/plain": [
              "<matplotlib.axes._subplots.AxesSubplot at 0x7f37888fe450>"
            ]
          },
          "metadata": {},
          "execution_count": 32
        },
        {
          "output_type": "display_data",
          "data": {
            "image/png": "[encoded data removed]",
            "text/plain": [
              "<Figure size 432x288 with 1 Axes>"
            ]
          },
          "metadata": {
            "needs_background": "light"
          }
        }
      ]
    },
    {
      "cell_type": "code",
      "metadata": {
        "id": "8pqqdZABcyr2"
      },
      "source": [
        "tokenizer = Tokenizer(num_words=5000)\n",
        "tokenizer.fit_on_texts(X_train)\n",
        "\n",
        "X_train = tokenizer.texts_to_sequences(X_train)\n",
        "X_test = tokenizer.texts_to_sequences(X_test)"
      ],
      "execution_count": 33,
      "outputs": []
    },
    {
      "cell_type": "code",
      "metadata": {
        "id": "15ADzOHpcz2D"
      },
      "source": [
        "vocab_size = len(tokenizer.word_index) + 1\n",
        "\n",
        "maxlen = 280\n",
        "\n",
        "X_train = pad_sequences(X_train, padding='post', maxlen=maxlen)\n",
        "X_test = pad_sequences(X_test, padding='post', maxlen=maxlen)"
      ],
      "execution_count": 34,
      "outputs": []
    },
    {
      "cell_type": "code",
      "metadata": {
        "colab": {
          "base_uri": "https://localhost:8080/"
        },
        "id": "TIMx9-jhdBkY",
        "outputId": "e0f01fb3-67cc-4ab5-a0d2-92d957d0243b"
      },
      "source": [
        "print(X_train)\n",
        "print(X_test)"
      ],
      "execution_count": 35,
      "outputs": [
        {
          "output_type": "stream",
          "name": "stdout",
          "text": [
            "[[  57  350    5 ...    0    0    0]\n",
            " [  11  813 1405 ...    0    0    0]\n",
            " [3582  693    2 ...    0    0    0]\n",
            " ...\n",
            " [ 205 2353 2238 ...    0    0    0]\n",
            " [ 176    8    1 ...    0    0    0]\n",
            " [3080  139   48 ...    0    0    0]]\n",
            "[[   4   35   51 ...    0    0    0]\n",
            " [  46   35  530 ...    0    0    0]\n",
            " [ 953 4807    9 ...    0    0    0]\n",
            " ...\n",
            " [1897    1 4723 ...    0    0    0]\n",
            " [ 226  244  210 ...    0    0    0]\n",
            " [  19  862    6 ...    0    0    0]]\n"
          ]
        }
      ]
    },
    {
      "cell_type": "code",
      "metadata": {
        "id": "JbM8rLxEdgMd"
      },
      "source": [
        "embedding_layer = Embedding(vocab_size, 100, input_length=maxlen)\n",
        "model = Sequential()\n",
        "model.add(embedding_layer)\n",
        "\n",
        "model.add(Flatten())\n",
        "model.add(Dense(1, activation='sigmoid'))"
      ],
      "execution_count": 36,
      "outputs": []
    },
    {
      "cell_type": "code",
      "metadata": {
        "colab": {
          "base_uri": "https://localhost:8080/"
        },
        "id": "xmrov3redtHR",
        "outputId": "31f8cb32-46c5-4de0-9308-77f2c359da19"
      },
      "source": [
        "model.compile(optimizer='adam', loss='binary_crossentropy', metrics=['acc'])\n",
        "\n",
        "print(model.summary())"
      ],
      "execution_count": 37,
      "outputs": [
        {
          "output_type": "stream",
          "name": "stdout",
          "text": [
            "Model: \"sequential_1\"\n",
            "_________________________________________________________________\n",
            "Layer (type)                 Output Shape              Param #   \n",
            "=================================================================\n",
            "embedding_1 (Embedding)      (None, 280, 100)          3944200   \n",
            "_________________________________________________________________\n",
            "flatten_1 (Flatten)          (None, 28000)             0         \n",
            "_________________________________________________________________\n",
            "dense_1 (Dense)              (None, 1)                 28001     \n",
            "=================================================================\n",
            "Total params: 3,972,201\n",
            "Trainable params: 3,972,201\n",
            "Non-trainable params: 0\n",
            "_________________________________________________________________\n",
            "None\n"
          ]
        }
      ]
    },
    {
      "cell_type": "code",
      "metadata": {
        "colab": {
          "base_uri": "https://localhost:8080/"
        },
        "id": "BLsn6CH4eB3t",
        "outputId": "c5ab3e02-4e70-487f-cd4b-faebed29414e"
      },
      "source": [
        "history = model.fit(X_train, y_train, batch_size=128, epochs=10, verbose=1, validation_split=0.2)"
      ],
      "execution_count": 38,
      "outputs": [
        {
          "output_type": "stream",
          "name": "stdout",
          "text": [
            "Epoch 1/10\n",
            "160/160 [==============================] - 11s 64ms/step - loss: 0.2364 - acc: 0.9246 - val_loss: 0.1713 - val_acc: 0.9402\n",
            "Epoch 2/10\n",
            "160/160 [==============================] - 10s 61ms/step - loss: 0.1187 - acc: 0.9558 - val_loss: 0.1313 - val_acc: 0.9531\n",
            "Epoch 3/10\n",
            "160/160 [==============================] - 10s 61ms/step - loss: 0.0747 - acc: 0.9732 - val_loss: 0.1256 - val_acc: 0.9548\n",
            "Epoch 4/10\n",
            "160/160 [==============================] - 10s 61ms/step - loss: 0.0500 - acc: 0.9839 - val_loss: 0.1289 - val_acc: 0.9574\n",
            "Epoch 5/10\n",
            "160/160 [==============================] - 10s 61ms/step - loss: 0.0338 - acc: 0.9907 - val_loss: 0.1306 - val_acc: 0.9566\n",
            "Epoch 6/10\n",
            "160/160 [==============================] - 10s 65ms/step - loss: 0.0231 - acc: 0.9948 - val_loss: 0.1376 - val_acc: 0.9552\n",
            "Epoch 7/10\n",
            "160/160 [==============================] - 10s 61ms/step - loss: 0.0163 - acc: 0.9967 - val_loss: 0.1462 - val_acc: 0.9564\n",
            "Epoch 8/10\n",
            "160/160 [==============================] - 10s 61ms/step - loss: 0.0120 - acc: 0.9979 - val_loss: 0.1577 - val_acc: 0.9570\n",
            "Epoch 9/10\n",
            "160/160 [==============================] - 10s 64ms/step - loss: 0.0094 - acc: 0.9983 - val_loss: 0.1584 - val_acc: 0.9556\n",
            "Epoch 10/10\n",
            "160/160 [==============================] - 10s 65ms/step - loss: 0.0073 - acc: 0.9988 - val_loss: 0.1674 - val_acc: 0.9540\n"
          ]
        }
      ]
    },
    {
      "cell_type": "code",
      "metadata": {
        "id": "i1DVLG2neGKH"
      },
      "source": [
        "loss, accuracy = model.evaluate(X_test, y_test, verbose=0)"
      ],
      "execution_count": 39,
      "outputs": []
    },
    {
      "cell_type": "code",
      "metadata": {
        "colab": {
          "base_uri": "https://localhost:8080/"
        },
        "id": "q0-BI5BAeJLp",
        "outputId": "f52cd408-7900-469a-9c33-1c5019834f33"
      },
      "source": [
        "print('Accuracy: %f' % (accuracy*100))"
      ],
      "execution_count": 43,
      "outputs": [
        {
          "output_type": "stream",
          "name": "stdout",
          "text": [
            "Accuracy: 96.026903\n"
          ]
        }
      ]
    },
    {
      "cell_type": "code",
      "metadata": {
        "colab": {
          "base_uri": "https://localhost:8080/",
          "height": 573
        },
        "id": "T_0tnhutTLxq",
        "outputId": "659967d3-0d08-4110-cdc4-e8a8fbca4a6e"
      },
      "source": [
        "import matplotlib.pyplot as plt\n",
        "\n",
        "plt.plot(history.history['acc'])\n",
        "plt.plot(history.history['val_acc'])\n",
        "\n",
        "plt.title('model accuracy')\n",
        "plt.ylabel('accuracy')\n",
        "plt.xlabel('epoch')\n",
        "plt.legend(['train','test'], loc='upper left')\n",
        "plt.show()\n",
        "\n",
        "plt.plot(history.history['loss'])\n",
        "plt.plot(history.history['val_loss'])\n",
        "\n",
        "plt.title('model loss')\n",
        "plt.ylabel('loss')\n",
        "plt.xlabel('epoch')\n",
        "plt.legend(['train','test'], loc='upper left')\n",
        "plt.show()"
      ],
      "execution_count": 44,
      "outputs": [
        {
          "output_type": "display_data",
          "data": {
            "image/png": "[encoded data removed]",
            "text/plain": [
              "<Figure size 432x288 with 1 Axes>"
            ]
          },
          "metadata": {
            "needs_background": "light"
          }
        },
        {
          "output_type": "display_data",
          "data": {
            "image/png": "[encoded data removed]",
            "text/plain": [
              "<Figure size 432x288 with 1 Axes>"
            ]
          },
          "metadata": {
            "needs_background": "light"
          }
        }
      ]
    },
    {
      "cell_type": "code",
      "metadata": {
        "colab": {
          "base_uri": "https://localhost:8080/"
        },
        "id": "BGO3EHf9VATc",
        "outputId": "8fe1f3c0-10a7-4b98-a229-ef149bcbf85a"
      },
      "source": [
        "sentence = features[14]\n",
        "print(sentence)"
      ],
      "execution_count": 54,
      "outputs": [
        {
          "output_type": "stream",
          "name": "stdout",
          "text": [
            "no comment in australia opkillingbay seashepherd helpcovedolphins thecove helpcovedolphins\n"
          ]
        }
      ]
    },
    {
      "cell_type": "code",
      "metadata": {
        "colab": {
          "base_uri": "https://localhost:8080/"
        },
        "id": "d-gHlSGuVMq6",
        "outputId": "3bc4f7c2-12e6-4671-8ba8-f3f1b2571294"
      },
      "source": [
        "instance = tokenizer.texts_to_sequences(sentence)\n",
        "\n",
        "flat_list = []\n",
        "for sublist in instance:\n",
        "    for item in sublist:\n",
        "        flat_list.append(item)\n",
        "\n",
        "flat_list = [flat_list]\n",
        "\n",
        "instance = pad_sequences(flat_list, padding='post', maxlen=maxlen)\n",
        "\n",
        "model.predict(instance)"
      ],
      "execution_count": 55,
      "outputs": [
        {
          "output_type": "execute_result",
          "data": {
            "text/plain": [
              "array([[1.3918753e-06]], dtype=float32)"
            ]
          },
          "metadata": {},
          "execution_count": 55
        }
      ]
    }
  ]
}